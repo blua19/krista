{
  "nbformat": 4,
  "nbformat_minor": 0,
  "metadata": {
    "kernelspec": {
      "display_name": "Python 3",
      "language": "python",
      "name": "python3"
    },
    "language_info": {
      "codemirror_mode": {
        "name": "ipython",
        "version": 3
      },
      "file_extension": ".py",
      "mimetype": "text/x-python",
      "name": "python",
      "nbconvert_exporter": "python",
      "pygments_lexer": "ipython3",
      "version": "3.6.4"
    },
    "colab": {
      "name": "03장_제어문_복습자료.ipynb",
      "provenance": [],
      "include_colab_link": true
    }
  },
  "cells": [
    {
      "cell_type": "markdown",
      "metadata": {
        "id": "view-in-github",
        "colab_type": "text"
      },
      "source": [
        "<a href=\"https://colab.research.google.com/github/krista0618/krista/blob/krista/03%EC%9E%A5_%EC%A0%9C%EC%96%B4%EB%AC%B8_%EB%B3%B5%EC%8A%B5%EC%9E%90%EB%A3%8C.ipynb\" target=\"_parent\"><img src=\"https://colab.research.google.com/assets/colab-badge.svg\" alt=\"Open In Colab\"/></a>"
      ]
    },
    {
      "cell_type": "markdown",
      "metadata": {
        "id": "oCqjjtLNaqTT",
        "colab_type": "text"
      },
      "source": [
        "### 2. while문을 이용해 1부터 1000까지의 자연수 중 3의 배수의 합을 구해보자. "
      ]
    },
    {
      "cell_type": "code",
      "metadata": {
        "id": "ECcMtHc8aqTV",
        "colab_type": "code",
        "colab": {
          "base_uri": "https://localhost:8080/",
          "height": 35
        },
        "outputId": "de7fc10f-291d-4bb7-a2b7-339e468f1c42"
      },
      "source": [
        "num = 0\n",
        "i = 0\n",
        "while num <1000:\n",
        "  num +=1\n",
        "  if num % 3 ==0:\n",
        "    i +=num\n",
        "print(i)    "
      ],
      "execution_count": 12,
      "outputs": [
        {
          "output_type": "stream",
          "text": [
            "166833\n"
          ],
          "name": "stdout"
        }
      ]
    },
    {
      "cell_type": "markdown",
      "metadata": {
        "id": "fC-aCgKlaqTc",
        "colab_type": "text"
      },
      "source": [
        "### 3.while문을 사용하여 다음과 같이 별(*)을 표시하는 프로그램을 작성해 보자"
      ]
    },
    {
      "cell_type": "code",
      "metadata": {
        "id": "XeP4JWUpaqTd",
        "colab_type": "code",
        "colab": {}
      },
      "source": [
        "'''\n",
        "*\n",
        "**\n",
        "***\n",
        "****\n",
        "*****\n",
        "'''"
      ],
      "execution_count": null,
      "outputs": []
    },
    {
      "cell_type": "code",
      "metadata": {
        "id": "3Tksk0b0aqTj",
        "colab_type": "code",
        "colab": {
          "base_uri": "https://localhost:8080/",
          "height": 106
        },
        "outputId": "ac33d7d6-33a6-49c7-bd98-fd6f76174ad9"
      },
      "source": [
        "a = '*'\n",
        "i = 0\n",
        "while i<5:\n",
        "  i +=1\n",
        "  print(a*i)"
      ],
      "execution_count": 2,
      "outputs": [
        {
          "output_type": "stream",
          "text": [
            "*\n",
            "**\n",
            "***\n",
            "****\n",
            "*****\n"
          ],
          "name": "stdout"
        }
      ]
    },
    {
      "cell_type": "markdown",
      "metadata": {
        "id": "VYDkXMbZaqTo",
        "colab_type": "text"
      },
      "source": [
        "### 4. for문을 활용해 1부터 100까지의 숫자를 출력해보자 "
      ]
    },
    {
      "cell_type": "code",
      "metadata": {
        "id": "hNBk6z90aqTp",
        "colab_type": "code",
        "colab": {
          "base_uri": "https://localhost:8080/",
          "height": 1000
        },
        "outputId": "a0743896-00f9-4b7a-fd31-1b3a43c6abfa"
      },
      "source": [
        "i = 0\n",
        "for i in range(1,101):\n",
        "  print(i) "
      ],
      "execution_count": 3,
      "outputs": [
        {
          "output_type": "stream",
          "text": [
            "1\n",
            "2\n",
            "3\n",
            "4\n",
            "5\n",
            "6\n",
            "7\n",
            "8\n",
            "9\n",
            "10\n",
            "11\n",
            "12\n",
            "13\n",
            "14\n",
            "15\n",
            "16\n",
            "17\n",
            "18\n",
            "19\n",
            "20\n",
            "21\n",
            "22\n",
            "23\n",
            "24\n",
            "25\n",
            "26\n",
            "27\n",
            "28\n",
            "29\n",
            "30\n",
            "31\n",
            "32\n",
            "33\n",
            "34\n",
            "35\n",
            "36\n",
            "37\n",
            "38\n",
            "39\n",
            "40\n",
            "41\n",
            "42\n",
            "43\n",
            "44\n",
            "45\n",
            "46\n",
            "47\n",
            "48\n",
            "49\n",
            "50\n",
            "51\n",
            "52\n",
            "53\n",
            "54\n",
            "55\n",
            "56\n",
            "57\n",
            "58\n",
            "59\n",
            "60\n",
            "61\n",
            "62\n",
            "63\n",
            "64\n",
            "65\n",
            "66\n",
            "67\n",
            "68\n",
            "69\n",
            "70\n",
            "71\n",
            "72\n",
            "73\n",
            "74\n",
            "75\n",
            "76\n",
            "77\n",
            "78\n",
            "79\n",
            "80\n",
            "81\n",
            "82\n",
            "83\n",
            "84\n",
            "85\n",
            "86\n",
            "87\n",
            "88\n",
            "89\n",
            "90\n",
            "91\n",
            "92\n",
            "93\n",
            "94\n",
            "95\n",
            "96\n",
            "97\n",
            "98\n",
            "99\n",
            "100\n"
          ],
          "name": "stdout"
        }
      ]
    },
    {
      "cell_type": "markdown",
      "metadata": {
        "id": "DCLwlq6TaqTu",
        "colab_type": "text"
      },
      "source": [
        "### 5. A학급에 총 10명의 학생이 있다. 이 학생들의 중간고사 점수는 다음과 같다.\n",
        "[70,60,55,75,95,90,80,80,85,100]\n",
        "### for문을 활용해 A학급의 평균을 구해보자"
      ]
    },
    {
      "cell_type": "code",
      "metadata": {
        "id": "jX4NjdiUaqTv",
        "colab_type": "code",
        "colab": {
          "base_uri": "https://localhost:8080/",
          "height": 35
        },
        "outputId": "1494b771-f11b-4572-d929-7d666652031f"
      },
      "source": [
        "A = [70,60,55,75,95,90,80,80,85,100]\n",
        "sum = 0\n",
        "for num in A:\n",
        "  sum += num\n",
        "  mean = sum / len(A)  \n",
        "print(mean)  "
      ],
      "execution_count": 6,
      "outputs": [
        {
          "output_type": "stream",
          "text": [
            "79.0\n"
          ],
          "name": "stdout"
        }
      ]
    },
    {
      "cell_type": "markdown",
      "metadata": {
        "id": "efMILaCraqT0",
        "colab_type": "text"
      },
      "source": [
        "### 6. 리스트 중에서 홀수에만 2를 곱하여 저장하라\n",
        "number = [1,2,3,4,5]"
      ]
    },
    {
      "cell_type": "code",
      "metadata": {
        "id": "n3FQ1VAxaqT1",
        "colab_type": "code",
        "colab": {
          "base_uri": "https://localhost:8080/",
          "height": 35
        },
        "outputId": "9e1328e6-86ae-45be-d63a-3f75d4a0dd3a"
      },
      "source": [
        "number = [1,2,3,4,5]\n",
        "new_number = []\n",
        "for i in number:\n",
        "  if i % 2 ==1:\n",
        "    new_number.append(i*2)\n",
        "print(new_number) "
      ],
      "execution_count": 10,
      "outputs": [
        {
          "output_type": "stream",
          "text": [
            "[2, 6, 10]\n"
          ],
          "name": "stdout"
        }
      ]
    },
    {
      "cell_type": "markdown",
      "metadata": {
        "id": "t4gS1TC5aqT8",
        "colab_type": "text"
      },
      "source": [
        "### 리스트 내포를 활용해 표현해보자. "
      ]
    },
    {
      "cell_type": "code",
      "metadata": {
        "id": "oG-89uocaqT9",
        "colab_type": "code",
        "colab": {
          "base_uri": "https://localhost:8080/",
          "height": 35
        },
        "outputId": "4336b707-f150-43c0-d9ed-adebcdc370c8"
      },
      "source": [
        "number = [1,2,3,4,5]\n",
        "new_number = [i *2 for i in number if i% 2 ==1]\n",
        "print(new_number)\n"
      ],
      "execution_count": 11,
      "outputs": [
        {
          "output_type": "stream",
          "text": [
            "[2, 6, 10]\n"
          ],
          "name": "stdout"
        }
      ]
    }
  ]
}