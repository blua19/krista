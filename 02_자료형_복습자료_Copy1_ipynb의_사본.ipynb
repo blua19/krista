{
  "nbformat": 4,
  "nbformat_minor": 0,
  "metadata": {
    "kernelspec": {
      "display_name": "Python 3",
      "language": "python",
      "name": "python3"
    },
    "language_info": {
      "codemirror_mode": {
        "name": "ipython",
        "version": 3
      },
      "file_extension": ".py",
      "mimetype": "text/x-python",
      "name": "python",
      "nbconvert_exporter": "python",
      "pygments_lexer": "ipython3",
      "version": "3.7.6"
    },
    "colab": {
      "name": "02_자료형.복습자료-Copy1.ipynb의 사본",
      "provenance": []
    }
  },
  "cells": [
    {
      "cell_type": "markdown",
      "metadata": {
        "id": "ARQZ2YJu1S6U",
        "colab_type": "text"
      },
      "source": [
        "### 1. 홍길동 씨의 과목별 점수는 다음과 같다. 홍기동 씨의 평균 점수를 구해보자.\n",
        "\n",
        "국어 : 80\n",
        "\n",
        "영어 : 75\n",
        "\n",
        "수학 : 55"
      ]
    },
    {
      "cell_type": "code",
      "metadata": {
        "id": "b9waaW4Z1S6W",
        "colab_type": "code",
        "colab": {
          "base_uri": "https://localhost:8080/",
          "height": 35
        },
        "outputId": "0af90403-9ef4-4736-b776-5004023e231c"
      },
      "source": [
        "sub1 = 80\n",
        "sub2 = 75\n",
        "sub3 = 55\n",
        "mean = (sub1+sub2+sub3) / 3\n",
        "print(mean)"
      ],
      "execution_count": null,
      "outputs": [
        {
          "output_type": "stream",
          "text": [
            "70.0\n"
          ],
          "name": "stdout"
        }
      ]
    },
    {
      "cell_type": "markdown",
      "metadata": {
        "id": "POMD5raJ1S6h",
        "colab_type": "text"
      },
      "source": [
        "### 2. 자연수 13이 홀수인지 짝수인지 판별할 수 있도록 해라"
      ]
    },
    {
      "cell_type": "code",
      "metadata": {
        "id": "IW8_Moiy1S6j",
        "colab_type": "code",
        "colab": {
          "base_uri": "https://localhost:8080/",
          "height": 35
        },
        "outputId": "c4b821ea-56cb-455f-ebd2-b187b438904b"
      },
      "source": [
        "def num(number):\n",
        " if number % 2 ==0:\n",
        "  print (\"짝수\")\n",
        " else: \n",
        "   print (\"홀수\")  \n",
        "num(13)"
      ],
      "execution_count": null,
      "outputs": [
        {
          "output_type": "stream",
          "text": [
            "홀수\n"
          ],
          "name": "stdout"
        }
      ]
    },
    {
      "cell_type": "markdown",
      "metadata": {
        "id": "LwczT92c1S6n",
        "colab_type": "text"
      },
      "source": [
        "### 3. 홍길동 씨의 주민등록번호는 881120-1068234이다. 홍길동 씨의 주민등록번호를 연원일(YYYYMMDD) 부분과 그 뒤의 숫자 부분으로 나누어 출력해 보자\n",
        "pin = \"881120-1068345\""
      ]
    },
    {
      "cell_type": "code",
      "metadata": {
        "id": "KmRQugAm1S6o",
        "colab_type": "code",
        "colab": {
          "base_uri": "https://localhost:8080/",
          "height": 52
        },
        "outputId": "69c2f839-9670-4b00-ed00-c2b5cf5b6e05"
      },
      "source": [
        "pin = \"881120-1068345\"\n",
        "print(pin.split(\"-\")[0])\n",
        "print(pin.split(\"-\")[1])\n"
      ],
      "execution_count": null,
      "outputs": [
        {
          "output_type": "stream",
          "text": [
            "881120\n",
            "1068345\n"
          ],
          "name": "stdout"
        }
      ]
    },
    {
      "cell_type": "code",
      "metadata": {
        "id": "1779dYJd1S6s",
        "colab_type": "code",
        "colab": {}
      },
      "source": [
        ""
      ],
      "execution_count": null,
      "outputs": []
    },
    {
      "cell_type": "markdown",
      "metadata": {
        "id": "lKCExUz71S60",
        "colab_type": "text"
      },
      "source": [
        "### 4. 주민등록번호 뒷자리의 맨 첫번째 숫자는 성별을 나타낸다. 주민등록번호에서 성별을 나타내는 숫자를 출력해 보자. "
      ]
    },
    {
      "cell_type": "code",
      "metadata": {
        "id": "m7YR7JEn1S61",
        "colab_type": "code",
        "colab": {
          "base_uri": "https://localhost:8080/",
          "height": 35
        },
        "outputId": "19d44e94-a4f1-40a1-d806-b87366d93b0a"
      },
      "source": [
        "part2=pin.split(\"-\")[1]\n",
        "print(part2[0])\n"
      ],
      "execution_count": null,
      "outputs": [
        {
          "output_type": "stream",
          "text": [
            "1\n"
          ],
          "name": "stdout"
        }
      ]
    },
    {
      "cell_type": "markdown",
      "metadata": {
        "id": "eJKrLwks1S67",
        "colab_type": "text"
      },
      "source": [
        "### 5. 다음과 같은 문자열 a:b:c:d가 있다.  a#b#c#d로 바꿔서 출력해보자.\n",
        "a = \"a:b:c:d\""
      ]
    },
    {
      "cell_type": "code",
      "metadata": {
        "id": "hg01r-ju1S68",
        "colab_type": "code",
        "colab": {
          "base_uri": "https://localhost:8080/",
          "height": 35
        },
        "outputId": "4c1a99c8-267e-40b2-93d4-098e497a8895"
      },
      "source": [
        "a = \"a:b:c:d\"\n",
        "(a.replace(\":\",\"#\"))"
      ],
      "execution_count": null,
      "outputs": [
        {
          "output_type": "execute_result",
          "data": {
            "application/vnd.google.colaboratory.intrinsic+json": {
              "type": "string"
            },
            "text/plain": [
              "'a#b#c#d'"
            ]
          },
          "metadata": {
            "tags": []
          },
          "execution_count": 37
        }
      ]
    },
    {
      "cell_type": "code",
      "metadata": {
        "id": "YPxB1FAY1S7A",
        "colab_type": "code",
        "colab": {},
        "outputId": "dabf5e67-da50-4416-8ef4-c6844c173db5"
      },
      "source": [
        ""
      ],
      "execution_count": null,
      "outputs": [
        {
          "output_type": "execute_result",
          "data": {
            "text/plain": [
              "'a#b#c#d'"
            ]
          },
          "metadata": {
            "tags": []
          },
          "execution_count": 14
        }
      ]
    },
    {
      "cell_type": "markdown",
      "metadata": {
        "id": "-oa6DJK41S7E",
        "colab_type": "text"
      },
      "source": [
        "### 6. [1,3,5,4,2] 리스트를 [5,4,3,2,1]로 만들어 보자.\n",
        "a = [1,3,5,4,2]"
      ]
    },
    {
      "cell_type": "code",
      "metadata": {
        "id": "oOh5tT381S7E",
        "colab_type": "code",
        "colab": {
          "base_uri": "https://localhost:8080/",
          "height": 35
        },
        "outputId": "499f59fd-b145-4156-b5f1-5af98215ce91"
      },
      "source": [
        "a = [1,3,5,4,2]\n",
        "a.sort(reverse = True)\n",
        "print(a)"
      ],
      "execution_count": null,
      "outputs": [
        {
          "output_type": "stream",
          "text": [
            "[5, 4, 3, 2, 1]\n"
          ],
          "name": "stdout"
        }
      ]
    },
    {
      "cell_type": "markdown",
      "metadata": {
        "id": "3VAfrM2T1S7H",
        "colab_type": "text"
      },
      "source": [
        "### 7. ['Life','is','too','short']리스트를 Life is too short 문자열로 만들어 출력해보자\n",
        "a = ['Life','is','too','short']"
      ]
    },
    {
      "cell_type": "code",
      "metadata": {
        "id": "fpiDo71b1S7H",
        "colab_type": "code",
        "colab": {
          "base_uri": "https://localhost:8080/",
          "height": 35
        },
        "outputId": "efd955c7-0db1-4850-cb19-3c314f5ba973"
      },
      "source": [
        "a = ['Life','is','too','short']\n",
        "print(a[0]+ \" \"+ a[1] + \" \" + a[2]+ \" \"+a[3])"
      ],
      "execution_count": null,
      "outputs": [
        {
          "output_type": "stream",
          "text": [
            "Life is too short\n"
          ],
          "name": "stdout"
        }
      ]
    },
    {
      "cell_type": "markdown",
      "metadata": {
        "id": "8t6A1vqE1S7M",
        "colab_type": "text"
      },
      "source": [
        "### 8. (1,2,3) 튜플에 값 4를 추가하여 (1,2,3,4)를 만들어 출력해보자"
      ]
    },
    {
      "cell_type": "code",
      "metadata": {
        "id": "yBN5B0_o1S7N",
        "colab_type": "code",
        "colab": {
          "base_uri": "https://localhost:8080/",
          "height": 35
        },
        "outputId": "b123264c-14d8-4caa-90c3-27978de648c4"
      },
      "source": [
        "c = (1,2,3)\n",
        "d = (4,)\n",
        "c+d\n",
        "\n"
      ],
      "execution_count": null,
      "outputs": [
        {
          "output_type": "execute_result",
          "data": {
            "text/plain": [
              "(1, 2, 3, 4)"
            ]
          },
          "metadata": {
            "tags": []
          },
          "execution_count": 47
        }
      ]
    },
    {
      "cell_type": "markdown",
      "metadata": {
        "id": "JYlj7Flf1S7Q",
        "colab_type": "text"
      },
      "source": [
        "a 튜플에 (4,)라는 튜플을 더하면 된다. 단, 이때 만들어지는 a+(4,)의 결과는 a값이 변경되는 것이 아니라(튜플은 그 값을 변경할 수 없다.) 새로운 튜플이 생성되고 그 값이 a 변수에 대입되는 것임에 유념한다."
      ]
    },
    {
      "cell_type": "code",
      "metadata": {
        "id": "r4Jcugu85LUQ",
        "colab_type": "code",
        "colab": {}
      },
      "source": [
        ""
      ],
      "execution_count": null,
      "outputs": []
    },
    {
      "cell_type": "markdown",
      "metadata": {
        "id": "ELOX-XwI1S7R",
        "colab_type": "text"
      },
      "source": [
        "### 10. 딕셔너리 a에서 'B'에 해당하는 값을 추출해 보자.\n",
        "a= {'A':90, 'B':80, 'C':70}"
      ]
    },
    {
      "cell_type": "code",
      "metadata": {
        "id": "lYnkYzQI1S7R",
        "colab_type": "code",
        "colab": {
          "base_uri": "https://localhost:8080/",
          "height": 35
        },
        "outputId": "ce43ddfd-0524-4709-9cfb-75a0fa9024ca"
      },
      "source": [
        "a = {'A':90, 'B':80, 'C':70}\n",
        "a['B']"
      ],
      "execution_count": null,
      "outputs": [
        {
          "output_type": "execute_result",
          "data": {
            "text/plain": [
              "80"
            ]
          },
          "metadata": {
            "tags": []
          },
          "execution_count": 41
        }
      ]
    },
    {
      "cell_type": "markdown",
      "metadata": {
        "id": "EZBQs-4H1S7U",
        "colab_type": "text"
      },
      "source": [
        "### 11. a 리스트에서 중복 숫자를 제거해보자\n",
        "a = [1,1,1,2,2,3,3,3,4,4,5]"
      ]
    },
    {
      "cell_type": "code",
      "metadata": {
        "id": "yYR9XkmW1S7V",
        "colab_type": "code",
        "colab": {
          "base_uri": "https://localhost:8080/",
          "height": 35
        },
        "outputId": "992e4f8d-9187-4da2-e25e-de33a753de27"
      },
      "source": [
        "a = {1,1,1,2,2,3,3,3,4,4,5}\n",
        "set(a)\n"
      ],
      "execution_count": null,
      "outputs": [
        {
          "output_type": "execute_result",
          "data": {
            "text/plain": [
              "{1, 2, 3, 4, 5}"
            ]
          },
          "metadata": {
            "tags": []
          },
          "execution_count": 42
        }
      ]
    }
  ]
}