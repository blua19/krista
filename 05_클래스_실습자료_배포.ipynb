{
  "nbformat": 4,
  "nbformat_minor": 0,
  "metadata": {
    "kernelspec": {
      "display_name": "Python 3",
      "language": "python",
      "name": "python3"
    },
    "language_info": {
      "codemirror_mode": {
        "name": "ipython",
        "version": 3
      },
      "file_extension": ".py",
      "mimetype": "text/x-python",
      "name": "python",
      "nbconvert_exporter": "python",
      "pygments_lexer": "ipython3",
      "version": "3.6.8"
    },
    "colab": {
      "name": "05_클래스.실습자료 - 배포.ipynb",
      "provenance": [],
      "include_colab_link": true
    }
  },
  "cells": [
    {
      "cell_type": "markdown",
      "metadata": {
        "id": "view-in-github",
        "colab_type": "text"
      },
      "source": [
        "<a href=\"https://colab.research.google.com/github/krista0618/krista/blob/krista/05_%ED%81%B4%EB%9E%98%EC%8A%A4_%EC%8B%A4%EC%8A%B5%EC%9E%90%EB%A3%8C_%EB%B0%B0%ED%8F%AC.ipynb\" target=\"_parent\"><img src=\"https://colab.research.google.com/assets/colab-badge.svg\" alt=\"Open In Colab\"/></a>"
      ]
    },
    {
      "cell_type": "markdown",
      "metadata": {
        "id": "HqJWPQvM4dER",
        "colab_type": "text"
      },
      "source": [
        "### 1-1. 비어있는 사람(Human)클래스를 \"정의\" 하라\n"
      ]
    },
    {
      "cell_type": "code",
      "metadata": {
        "id": "S6l92K9s6AoG",
        "colab_type": "code",
        "colab": {}
      },
      "source": [
        "class Human:\n",
        "  pass\n",
        "  "
      ],
      "execution_count": 3,
      "outputs": []
    },
    {
      "cell_type": "markdown",
      "metadata": {
        "id": "QPtNpQ9H4dEU",
        "colab_type": "text"
      },
      "source": [
        "### 1-2. 사람(Human)클래스를 \"생성\"하고 areum변수에 할당해라"
      ]
    },
    {
      "cell_type": "code",
      "metadata": {
        "id": "PoAWzko86Erf",
        "colab_type": "code",
        "colab": {}
      },
      "source": [
        "class Human:\n",
        "  pass\n",
        "  areum = Human()\n",
        " \n"
      ],
      "execution_count": 8,
      "outputs": []
    },
    {
      "cell_type": "markdown",
      "metadata": {
        "id": "fCTs4GYL4dEW",
        "colab_type": "text"
      },
      "source": [
        "### 1-3. 사람(Human)클래스에 \"응애응애\"를 출력하는 생성자를 추가해라"
      ]
    },
    {
      "cell_type": "code",
      "metadata": {
        "id": "KmbV3hZv6jkz",
        "colab_type": "code",
        "colab": {
          "base_uri": "https://localhost:8080/",
          "height": 330
        },
        "outputId": "b049ebe6-a308-4956-92fd-a3cfd08856c5"
      },
      "source": [
        "class Human:\n",
        "  def __init__(self):\n",
        "   print(\"응애응애\")\n",
        "\n",
        "  areum = Human()"
      ],
      "execution_count": 14,
      "outputs": [
        {
          "output_type": "error",
          "ename": "TypeError",
          "evalue": "ignored",
          "traceback": [
            "\u001b[0;31m---------------------------------------------------------------------------\u001b[0m",
            "\u001b[0;31mTypeError\u001b[0m                                 Traceback (most recent call last)",
            "\u001b[0;32m<ipython-input-14-00df0b6e9a96>\u001b[0m in \u001b[0;36m<module>\u001b[0;34m()\u001b[0m\n\u001b[0;32m----> 1\u001b[0;31m \u001b[0;32mclass\u001b[0m \u001b[0mHuman\u001b[0m\u001b[0;34m:\u001b[0m\u001b[0;34m\u001b[0m\u001b[0;34m\u001b[0m\u001b[0m\n\u001b[0m\u001b[1;32m      2\u001b[0m   \u001b[0;32mdef\u001b[0m \u001b[0m__init__\u001b[0m\u001b[0;34m(\u001b[0m\u001b[0mself\u001b[0m\u001b[0;34m)\u001b[0m\u001b[0;34m:\u001b[0m\u001b[0;34m\u001b[0m\u001b[0;34m\u001b[0m\u001b[0m\n\u001b[1;32m      3\u001b[0m    \u001b[0mprint\u001b[0m\u001b[0;34m(\u001b[0m\u001b[0;34m\"응애응애\"\u001b[0m\u001b[0;34m)\u001b[0m\u001b[0;34m\u001b[0m\u001b[0;34m\u001b[0m\u001b[0m\n\u001b[1;32m      4\u001b[0m \u001b[0;34m\u001b[0m\u001b[0m\n\u001b[1;32m      5\u001b[0m   \u001b[0mareum\u001b[0m \u001b[0;34m=\u001b[0m \u001b[0mHuman\u001b[0m\u001b[0;34m(\u001b[0m\u001b[0;34m)\u001b[0m\u001b[0;34m\u001b[0m\u001b[0;34m\u001b[0m\u001b[0m\n",
            "\u001b[0;32m<ipython-input-14-00df0b6e9a96>\u001b[0m in \u001b[0;36mHuman\u001b[0;34m()\u001b[0m\n\u001b[1;32m      3\u001b[0m    \u001b[0mprint\u001b[0m\u001b[0;34m(\u001b[0m\u001b[0;34m\"응애응애\"\u001b[0m\u001b[0;34m)\u001b[0m\u001b[0;34m\u001b[0m\u001b[0;34m\u001b[0m\u001b[0m\n\u001b[1;32m      4\u001b[0m \u001b[0;34m\u001b[0m\u001b[0m\n\u001b[0;32m----> 5\u001b[0;31m   \u001b[0mareum\u001b[0m \u001b[0;34m=\u001b[0m \u001b[0mHuman\u001b[0m\u001b[0;34m(\u001b[0m\u001b[0;34m)\u001b[0m\u001b[0;34m\u001b[0m\u001b[0;34m\u001b[0m\u001b[0m\n\u001b[0m",
            "\u001b[0;31mTypeError\u001b[0m: __init__() missing 3 required positional arguments: '이름', '나이', and '성별'"
          ]
        }
      ]
    },
    {
      "cell_type": "markdown",
      "metadata": {
        "id": "Fuyih7Cg4dEY",
        "colab_type": "text"
      },
      "source": [
        "### 1-4. 사람(Human)클래스에 (이름,나이,성별)을 받는 생성자를 추가하여라"
      ]
    },
    {
      "cell_type": "code",
      "metadata": {
        "id": "hP0WIdN06y0J",
        "colab_type": "code",
        "colab": {}
      },
      "source": [
        "class Human:\n",
        "    def __init__(self, name, age, sex):\n",
        "    \n",
        "\n",
        "     areum = Human()  "
      ],
      "execution_count": 18,
      "outputs": []
    },
    {
      "cell_type": "markdown",
      "metadata": {
        "id": "r6qVmJMt4dEa",
        "colab_type": "text"
      },
      "source": [
        "### 1-5. 위에서 생성한 인스턴스의 이름, 나이, 성별을 출력하여라. 인스턴스 변수에 접근하여 값을 얻어 오세요."
      ]
    },
    {
      "cell_type": "code",
      "metadata": {
        "id": "6gABbY3I_-Vf",
        "colab_type": "code",
        "colab": {
          "base_uri": "https://localhost:8080/",
          "height": 70
        },
        "outputId": "0bcebd51-1a1a-440f-9662-66ce5127fd0a"
      },
      "source": [
        "class Human:\n",
        "    def __init__(self,name, age, sex):\n",
        "     self. name = name\n",
        "     self. age = age\n",
        "     self. sex = sex\n",
        "\n",
        "\n",
        "areum = Human(\"아름\", 25, \"여자\")\n",
        "print(areum.name)\n",
        "print(areum.age)\n",
        "print(areum.sex) \n"
      ],
      "execution_count": 21,
      "outputs": [
        {
          "output_type": "stream",
          "text": [
            "아름\n",
            "25\n",
            "여자\n"
          ],
          "name": "stdout"
        }
      ]
    },
    {
      "cell_type": "markdown",
      "metadata": {
        "id": "hkya0FVQ4dEd",
        "colab_type": "text"
      },
      "source": [
        "### 1-6.사람 (Human) 클래스에서 이름, 나이, 성별을 출력하는 who() 메소드를 구현하여라."
      ]
    },
    {
      "cell_type": "code",
      "metadata": {
        "id": "TlCd3wFdBfyY",
        "colab_type": "code",
        "colab": {
          "base_uri": "https://localhost:8080/",
          "height": 35
        },
        "outputId": "0cb3ea29-4b27-4475-fd60-f1660aed5898"
      },
      "source": [
        "class Human:\n",
        "    def __init__(self, name, age, sex):\n",
        "     self. name = name\n",
        "     self. age = age\n",
        "     self. sex = sex\n",
        "    def who(self):\n",
        "     print(\"이름: {}, 나이: {}, 성별: {}\". format(self.name, self.age, self. sex) )\n",
        "\n",
        "areum = Human(\"아름\", 25, \"여자\")\n",
        "areum. who()  "
      ],
      "execution_count": 30,
      "outputs": [
        {
          "output_type": "stream",
          "text": [
            "이름: 아름, 나이: 25, 성별: 여자\n"
          ],
          "name": "stdout"
        }
      ]
    },
    {
      "cell_type": "markdown",
      "metadata": {
        "id": "Xe7X24YZ4dEe",
        "colab_type": "text"
      },
      "source": [
        "### 1-7.사람 (Human) 클래스에 (이름, 나이, 성별)을 받는 setInfo 메소드를 추가하여라."
      ]
    },
    {
      "cell_type": "code",
      "metadata": {
        "id": "2LHBOD704dEg",
        "colab_type": "code",
        "colab": {
          "base_uri": "https://localhost:8080/",
          "height": 52
        },
        "outputId": "740f4380-e5a0-4d60-a400-4037c8493f38"
      },
      "source": [
        "class Human:\n",
        "    def __init__(self, name, age, sex):\n",
        "     self. name = name\n",
        "     self. age = age\n",
        "     self. sex = sex\n",
        "    def who(self):\n",
        "     print(\"이름: {}, 나이: {}, 성별: {}\". format(self.name, self.age, self. sex) )\n",
        "    def setInfo(self, name, age, sex):\n",
        "     self. name = name\n",
        "     self. age = age\n",
        "     self. sex = sex\n",
        "      \n",
        "areum = Human(\"모름\", 0, \"모름\")\n",
        "areum.who()\n",
        "areum. setInfo (\"아름\", 25, \"여자\")\n",
        "areum.who()"
      ],
      "execution_count": 43,
      "outputs": [
        {
          "output_type": "stream",
          "text": [
            "이름: 모름, 나이: 0, 성별: 모름\n",
            "이름: 아름, 나이: 25, 성별: 여자\n"
          ],
          "name": "stdout"
        }
      ]
    },
    {
      "cell_type": "markdown",
      "metadata": {
        "id": "FidXEB944dEp",
        "colab_type": "text"
      },
      "source": [
        "### 2.다음은 Calculator 클래스이다."
      ]
    },
    {
      "cell_type": "code",
      "metadata": {
        "id": "1amF82cy4dEq",
        "colab_type": "code",
        "colab": {}
      },
      "source": [
        "class Calculator:\n",
        "    def __init__(self):\n",
        "        self.value = 0\n",
        "\n",
        "    def add(self, val):\n",
        "        self.value += val\n",
        "        \n",
        "class UpgradeCaculator(Calculator):\n",
        "  def minus(self):\n",
        "   self.value -=val       "
      ],
      "execution_count": null,
      "outputs": []
    },
    {
      "cell_type": "markdown",
      "metadata": {
        "id": "mcZcj4G74dEx",
        "colab_type": "text"
      },
      "source": [
        "#### 위 클래스를 상속하는 UpgradeCalculator를 만들고 값을 뺄 수 있는 minus 메서드를 추가해 보자. 즉 다음과 같이 동작하는 클래스를 만들어야 한다."
      ]
    },
    {
      "cell_type": "markdown",
      "metadata": {
        "id": "hzE79T2V4dEy",
        "colab_type": "text"
      },
      "source": [
        "### 3. 객체변수 value가 100 이상의 값은 가질 수 없도록 제한하는 MaxLimitCalculator 클래스를 만들어 보자. 즉 다음과 같이 동작해야 한다."
      ]
    },
    {
      "cell_type": "code",
      "metadata": {
        "id": "YYiw1mlQ4dEz",
        "colab_type": "code",
        "colab": {}
      },
      "source": [
        "#cal = MaxLimitCalculator()\n",
        "#cal.add(50) # 50 더하기\n",
        "#cal.add(60) # 60 더하기\n",
        "\n",
        "#print(cal.value) # 100 출력\n"
      ],
      "execution_count": null,
      "outputs": []
    },
    {
      "cell_type": "markdown",
      "metadata": {
        "id": "-u-Qlopt4dE3",
        "colab_type": "text"
      },
      "source": [
        "#### 단 반드시 다음과 같은 Calculator 클래스를 상속해서 만들어야 한다."
      ]
    },
    {
      "cell_type": "code",
      "metadata": {
        "id": "-BDbyn7z4dE4",
        "colab_type": "code",
        "colab": {}
      },
      "source": [
        "class Calculator:\n",
        "    def __init__(self):\n",
        "        self.value = 0\n",
        "\n",
        "    def add(self, val):\n",
        "        self.value += val\n",
        "class MaxLimitCaculator(Calculator):\n",
        "  def cal(self, val):\n",
        "    self.value +=val\n",
        "    if self.value >100:\n",
        "     self.value = 100\n",
        "\n",
        "      \n",
        "  \n"
      ],
      "execution_count": 52,
      "outputs": []
    }
  ]
}